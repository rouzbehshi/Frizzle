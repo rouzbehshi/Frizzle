{
 "cells": [
  {
   "cell_type": "code",
   "execution_count": 16,
   "metadata": {
    "collapsed": true,
    "ExecuteTime": {
     "end_time": "2024-03-04T23:40:31.524560100Z",
     "start_time": "2024-03-04T23:40:31.510366800Z"
    }
   },
   "outputs": [],
   "source": [
    "import xarray as xr\n",
    "import pandas as pd\n",
    "import os, glob"
   ]
  },
  {
   "cell_type": "code",
   "execution_count": 17,
   "outputs": [],
   "source": [
    "def netcdf_converter(variable, year, folder_path, lat, lon):\n",
    "    file_pattern = os.path.join(folder_path, f\"{variable}_WFDE5_CRU_{year}??_v2.1.nc\")\n",
    "    files = glob.glob(file_pattern)\n",
    "\n",
    "    files.sort()\n",
    "\n",
    "    dataset_list = [xr.open_dataset(file) for file in files]\n",
    "    combine_ds = xr.concat(dataset_list, dim='time')\n",
    "    time_series = combine_ds[variable].sel(lat = lat, lon = lon, method='nearest')\n",
    "    return time_series"
   ],
   "metadata": {
    "collapsed": false,
    "ExecuteTime": {
     "end_time": "2024-03-04T23:40:31.944529Z",
     "start_time": "2024-03-04T23:40:31.933526600Z"
    }
   }
  },
  {
   "cell_type": "code",
   "execution_count": 18,
   "outputs": [],
   "source": [
    "folder_path = r\"C:\\Users\\rzbsh\\OneDrive\\Desktop\\WFDE5\"\n",
    "year = 2019\n",
    "lat = 40.5112\n",
    "lon = 16.3723\n",
    "\n",
    "variables = ['Tair', 'LWdown','PSurf', 'Qair', 'SWdown', 'Wind' ]\n"
   ],
   "metadata": {
    "collapsed": false,
    "ExecuteTime": {
     "end_time": "2024-03-04T23:40:32.440638900Z",
     "start_time": "2024-03-04T23:40:32.436637700Z"
    }
   }
  },
  {
   "cell_type": "code",
   "execution_count": 19,
   "outputs": [
    {
     "name": "stdout",
     "output_type": "stream",
     "text": [
      "saved: Tair_2019.csv\n",
      "saved: LWdown_2019.csv\n",
      "saved: PSurf_2019.csv\n",
      "saved: Qair_2019.csv\n",
      "saved: SWdown_2019.csv\n",
      "saved: Wind_2019.csv\n"
     ]
    }
   ],
   "source": [
    "for variable in variables:\n",
    "    time_series = netcdf_converter(variable, year, folder_path, lat, lon)\n",
    "    df = time_series.to_dataframe().reset_index()\n",
    "    output_file_name = f\"{variable}_{year}.csv\"\n",
    "    df.to_csv(output_file_name, index=False)\n",
    "    print(f\"Saved: {output_file_name}\")"
   ],
   "metadata": {
    "collapsed": false,
    "ExecuteTime": {
     "end_time": "2024-03-04T23:44:48.340957800Z",
     "start_time": "2024-03-04T23:40:34.044413800Z"
    }
   }
  }
 ],
 "metadata": {
  "kernelspec": {
   "display_name": "Python 3",
   "language": "python",
   "name": "python3"
  },
  "language_info": {
   "codemirror_mode": {
    "name": "ipython",
    "version": 2
   },
   "file_extension": ".py",
   "mimetype": "text/x-python",
   "name": "python",
   "nbconvert_exporter": "python",
   "pygments_lexer": "ipython2",
   "version": "2.7.6"
  }
 },
 "nbformat": 4,
 "nbformat_minor": 0
}
